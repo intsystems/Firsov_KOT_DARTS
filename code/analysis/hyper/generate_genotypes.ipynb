{
 "cells": [
  {
   "cell_type": "markdown",
   "id": "2fd33e96",
   "metadata": {},
   "source": [
    "The notebook generates (pseudo-)random  genotypes for toy experiments on FashionMNIST and CIAFR-10 datasets.\n"
   ]
  },
  {
   "cell_type": "code",
   "execution_count": 2,
   "id": "74c9da2d",
   "metadata": {},
   "outputs": [],
   "source": [
    "import sys\n",
    "import torch\n",
    "import tqdm\n",
    "import numpy as np\n",
    "import random\n",
    "import os\n",
    "import json\n",
    "sys.path.append('../../')\n",
    "from models.cnn.search_cnn import  SearchCNN, SearchCNNController\n",
    "from models.cnn_darts_hypernet.search_cnn_darts_hypernet import SearchCNNControllerWithHyperNet\n",
    "from models.cnn.one_hot_cnn import OneHotSearchCNNController\n",
    "\n",
    "from configobj import ConfigObj"
   ]
  },
  {
   "cell_type": "code",
   "execution_count": 17,
   "id": "700a22d3",
   "metadata": {},
   "outputs": [],
   "source": [
    "def generate(percentage):\n",
    "    all_ops = np.random.choice([3,4,5,6], size=28) # generate graph with operations that have many parameters\n",
    "    mask = np.random.rand(28) < percentage\n",
    "    # mix with non-parametric operations \n",
    "    all_ops = all_ops * (1-mask) + mask * np.random.choice([0,1,2,7], size=28)     \n",
    "    all_ops = all_ops.tolist() # numpy -> python\n",
    "    \n",
    "    normal = [[all_ops[0], all_ops[1]], [all_ops[2], all_ops[3], all_ops[4]], [all_ops[5], all_ops[6], all_ops[7], all_ops[8]],[all_ops[9], all_ops[10], all_ops[11], all_ops[12] , all_ops[13]]] \n",
    "    reduce = [[all_ops[14], all_ops[15]], [all_ops[16], all_ops[17], all_ops[18]], [all_ops[19], all_ops[20], all_ops[21], all_ops[22]], [all_ops[23], all_ops[24], all_ops[25], all_ops[26], all_ops[27]]]    \n",
    "    return normal, reduce\n",
    "\n",
    "\n",
    "np.random.seed(42)\n",
    "for p in range(20):\n",
    "    p_ = p/19\n",
    "    with open('../../configs/mini_fmnist_hyper_final/random_genotype_{}.json'.format(p), 'w') as out:\n",
    "        out.write(json.dumps(generate(p_)))\n",
    "    with open('../../configs/mini_cifar_hyper_final/random_genotype_{}.json'.format(p), 'w') as out:\n",
    "        out.write(json.dumps(generate(p_)))"
   ]
  }
 ],
 "metadata": {
  "kernelspec": {
   "display_name": "Python 3 (ipykernel)",
   "language": "python",
   "name": "python3"
  },
  "language_info": {
   "codemirror_mode": {
    "name": "ipython",
    "version": 3
   },
   "file_extension": ".py",
   "mimetype": "text/x-python",
   "name": "python",
   "nbconvert_exporter": "python",
   "pygments_lexer": "ipython3",
   "version": "3.8.10"
  }
 },
 "nbformat": 4,
 "nbformat_minor": 5
}
